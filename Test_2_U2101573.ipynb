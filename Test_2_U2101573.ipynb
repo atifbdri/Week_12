{
 "cells": [
  {
   "cell_type": "code",
   "execution_count": 36,
   "id": "82a55e57",
   "metadata": {},
   "outputs": [
    {
     "data": {
      "image/png": "[encoded data removed]",
      "text/plain": [
       "<Figure size 640x480 with 1 Axes>"
      ]
     },
     "metadata": {},
     "output_type": "display_data"
    }
   ],
   "source": [
    "import numpy as np\n",
    "import scipy as sc\n",
    "import matplotlib.pyplot as plt\n",
    "\n",
    "# initial condition\n",
    "y0 = 1\n",
    "\n",
    "# define the ode \n",
    "def dydt(y, t):\n",
    "    \n",
    "    dydt = -2*y*t\n",
    "    \n",
    "    return dydt\n",
    "\n",
    "# time steps\n",
    "start = 0\n",
    "end = 2\n",
    "\n",
    "t = np.linspace(start, end, end)\n",
    "\n",
    "yinitial = np.linspace(y0, y0, end)\n",
    "\n",
    "y = sc.integrate.odeint(dydt, y0, t)\n",
    "\n",
    "\n",
    "\n",
    "plt.figure()\n",
    "plt.plot(t, y, 'r', label='dy/dt')\n",
    "plt.xlabel('Time')\n",
    "plt.ylabel('Y')\n",
    "plt.show()\n"
   ]
  },
  {
   "cell_type": "code",
   "execution_count": 7,
   "id": "950ee1f5",
   "metadata": {},
   "outputs": [
    {
     "name": "stdout",
     "output_type": "stream",
     "text": [
      "[[2 4 6]\n",
      " [5 3 2]\n",
      " [7 8 9]]\n",
      "[[18]\n",
      " [13]\n",
      " [30]]\n",
      "[[ 4.5]\n",
      " [-7.5]\n",
      " [ 6.5]]\n"
     ]
    }
   ],
   "source": [
    "# import necessary libarary\n",
    "import numpy as np\n",
    "\n",
    "# for the unknown part, labelled as A\n",
    "A = np.array([[2, 4, 6], [5, 3, 2], [7, 8, 9]])\n",
    "print(A)\n",
    "\n",
    "# for the answer part, labelled as b\n",
    "b = np.array([[18], [13], [30]])\n",
    "print(b)\n",
    "\n",
    "# the solution, labelled as C\n",
    "C = np.linalg.solve(A, b)\n",
    "print(C)\n"
   ]
  },
  {
   "cell_type": "code",
   "execution_count": null,
   "id": "2c546baa",
   "metadata": {},
   "outputs": [],
   "source": [
    "import requests\n",
    "import matplotlib.pyplot as plt\n",
    "\n",
    "def hourly_temperature(api_key, days):\n",
    "    base_url = \"https://api.open-meteo.com/v1/forecast?latitude=2.5&longitude=112.5&hourly=temperature_2m&timezone=Asia%2FSingapore&forecast_days=16\"\n",
    "\n",
    "    \n",
    "    response = requests.get(base_url)\n",
    "    \n",
    "   \n",
    "    data = response.json()\n",
    "    hourly_data = data['list']\n",
    "        \n",
    "    timestamps = []\n",
    "    temperatures = []\n",
    "        \n",
    "    for entry in hourly_data:\n",
    "        timestamp = entry['dt']\n",
    "        temperature = entry['main']['temp']\n",
    "            \n",
    "        timestamps.append(timestamp)\n",
    "        temperatures.append(temperature)\n",
    "        \n",
    "        return timestamps, temperatures\n",
    "\n",
    "def plot_temperature(timestamps, temperatures):\n",
    "\n",
    "    plt.figure()\n",
    "    plt.plot(formatted_times, temperatures, 'r')\n",
    "    plt.title('Hourly Temperature Data')\n",
    "    plt.xlabel('Time')\n",
    "    plt.ylabel('Temperature (°C)')\n",
    "    plt.show()\n",
    "\n",
    "api_key = 'https://api.open-meteo.com/v1/forecast?latitude=2.5&longitude=112.5&hourly=temperature_2m&timezone=Asia%2FSingapore&forecast_days=16'\n",
    "\n",
    "\n",
    "while True:\n",
    "        try:\n",
    "            number_of_days = int(input(\"Enter the number of days (1 to 16): \"))\n",
    "            if 1 <= number_of_days <= 16:\n",
    "                break\n",
    "            else:\n",
    "                print(\"Please enter a valid number of days.\")\n",
    "        except ValueError:\n",
    "            print(\"Invalid input. Please enter a valid number.\")\n",
    "\n",
    "timestamps, temperatures = hourly_temperature(api_key, number_of_days)\n",
    "\n",
    "if timestamps and temperatures:\n",
    "    plot_temperature(timestamps, temperatures)"
   ]
  },
  {
   "cell_type": "code",
   "execution_count": null,
   "id": "4d0e52bd",
   "metadata": {},
   "outputs": [],
   "source": []
  }
 ],
 "metadata": {
  "kernelspec": {
   "display_name": "Python 3 (ipykernel)",
   "language": "python",
   "name": "python3"
  },
  "language_info": {
   "codemirror_mode": {
    "name": "ipython",
    "version": 3
   },
   "file_extension": ".py",
   "mimetype": "text/x-python",
   "name": "python",
   "nbconvert_exporter": "python",
   "pygments_lexer": "ipython3",
   "version": "3.11.5"
  }
 },
 "nbformat": 4,
 "nbformat_minor": 5
}
